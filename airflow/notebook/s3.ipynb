{
 "cells": [
  {
   "cell_type": "code",
   "execution_count": 2,
   "metadata": {},
   "outputs": [],
   "source": [
    "import boto3\n",
    "from dotenv import load_dotenv\n",
    "import os"
   ]
  },
  {
   "cell_type": "code",
   "execution_count": 3,
   "metadata": {},
   "outputs": [],
   "source": [
    "load_dotenv()\n",
    "\n",
    "AWS_ACCESS_KEY_ID = os.getenv('AWS_ACCESS_KEY_ID')\n",
    "AWS_SECRET_ACCESS_KEY = os.getenv('AWS_SECRET_ACCESS_KEY')\n",
    "AWS_REGION_NAME = os.getenv('AWS_REGION_NAME')\n",
    "AWS_S3_BUCKET_NAME = os.getenv('AWS_S3_BUCKET_NAME')"
   ]
  },
  {
   "cell_type": "code",
   "execution_count": 4,
   "metadata": {},
   "outputs": [],
   "source": [
    "s3_client: boto3.client = boto3.client('s3',\n",
    "                                           aws_access_key_id=AWS_ACCESS_KEY_ID,\n",
    "                                           aws_secret_access_key=AWS_SECRET_ACCESS_KEY,\n",
    "                                           region_name=AWS_REGION_NAME)"
   ]
  },
  {
   "cell_type": "code",
   "execution_count": 5,
   "metadata": {},
   "outputs": [
    {
     "data": {
      "text/plain": [
       "[{'Key': 'rates_2023_08_13.csv',\n",
       "  'LastModified': datetime.datetime(2023, 8, 13, 16, 12, 22, tzinfo=tzutc()),\n",
       "  'ETag': '\"b592510806a961a9d25c7d99442e24a7\"',\n",
       "  'Size': 5819,\n",
       "  'StorageClass': 'STANDARD',\n",
       "  'Owner': {'ID': 'da61778a50b21a24e4edce8c6997bb75c1652198d471d19f2cacb180ec255eb3'}}]"
      ]
     },
     "execution_count": 5,
     "metadata": {},
     "output_type": "execute_result"
    }
   ],
   "source": [
    "s3_client.list_objects(Bucket=AWS_S3_BUCKET_NAME)['Contents']"
   ]
  },
  {
   "cell_type": "code",
   "execution_count": null,
   "metadata": {},
   "outputs": [],
   "source": []
  }
 ],
 "metadata": {
  "kernelspec": {
   "display_name": "donnee_2_env",
   "language": "python",
   "name": "python3"
  },
  "language_info": {
   "codemirror_mode": {
    "name": "ipython",
    "version": 3
   },
   "file_extension": ".py",
   "mimetype": "text/x-python",
   "name": "python",
   "nbconvert_exporter": "python",
   "pygments_lexer": "ipython3",
   "version": "3.10.12"
  },
  "orig_nbformat": 4
 },
 "nbformat": 4,
 "nbformat_minor": 2
}
