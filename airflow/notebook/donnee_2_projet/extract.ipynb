{
 "cells": [
  {
   "cell_type": "code",
   "execution_count": 1,
   "metadata": {},
   "outputs": [],
   "source": [
    "# Import module required\n",
    "import pandas as pd\n",
    "import requests as rq\n",
    "import os\n",
    "from dotenv import load_dotenv"
   ]
  },
  {
   "cell_type": "code",
   "execution_count": 2,
   "metadata": {},
   "outputs": [],
   "source": [
    "# Load environnement variable\n",
    "load_dotenv()\n",
    "BASE_URL = os.getenv('BASE_URL')\n",
    "API_KEY = os.getenv('API_KEY')\n",
    "\n",
    "url = f'{BASE_URL}/fixer'\n",
    "requests_headers = {\n",
    "    'apikey': API_KEY\n",
    "}"
   ]
  },
  {
   "cell_type": "code",
   "execution_count": 7,
   "metadata": {},
   "outputs": [],
   "source": [
    "# Get all symbols\n",
    "get_symbols_response:rq.Response = rq.get(f'{url}/symbols',headers=requests_headers)\n",
    "\n",
    "symbols:dict = get_symbols_response.json()['symbols']\n",
    "\n",
    "df_symbols:pd.DataFrame = pd.DataFrame(symbols.items(), columns=['symbols', 'countries'])"
   ]
  },
  {
   "cell_type": "code",
   "execution_count": 4,
   "metadata": {},
   "outputs": [],
   "source": [
    "# Get latest rates change\n",
    "base_request_param = 'EUR'\n",
    "get_rates_response:rq.Response = rq.get(f'{url}/latest?base={base_request_param}',headers=requests_headers)\n",
    "\n",
    "rates_response_json = get_rates_response.json()\n",
    "rates_base = rates_response_json['base']\n",
    "rates_date = rates_response_json['date']\n",
    "rates = rates_response_json['rates']"
   ]
  },
  {
   "cell_type": "code",
   "execution_count": 8,
   "metadata": {},
   "outputs": [],
   "source": [
    "df_rates:pd.DataFrame = pd.DataFrame(list(rates.items()), columns=['symbols','rates'])"
   ]
  },
  {
   "cell_type": "code",
   "execution_count": 11,
   "metadata": {},
   "outputs": [],
   "source": [
    "df:pd.DataFrame = pd.merge(df_rates,df_symbols,how='left')"
   ]
  },
  {
   "cell_type": "code",
   "execution_count": null,
   "metadata": {},
   "outputs": [],
   "source": []
  }
 ],
 "metadata": {
  "kernelspec": {
   "display_name": "env_donnees_2",
   "language": "python",
   "name": "python3"
  },
  "language_info": {
   "codemirror_mode": {
    "name": "ipython",
    "version": 3
   },
   "file_extension": ".py",
   "mimetype": "text/x-python",
   "name": "python",
   "nbconvert_exporter": "python",
   "pygments_lexer": "ipython3",
   "version": "3.10.12"
  },
  "orig_nbformat": 4
 },
 "nbformat": 4,
 "nbformat_minor": 2
}
